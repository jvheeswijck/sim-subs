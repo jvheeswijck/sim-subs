{
 "cells": [
  {
   "cell_type": "code",
   "execution_count": 52,
   "metadata": {
    "collapsed": true
   },
   "outputs": [],
   "source": [
    "import sys\n",
    "import time\n",
    "import re\n",
    "import argparse\n",
    "import logging\n",
    "import json\n",
    "import datetime as dt\n",
    "\n",
    "import praw\n",
    "import pandas as pd\n",
    "\n",
    "from sqlalchemy import create_engine\n",
    "from sqlalchemy.sql import Insert\n",
    "from sqlalchemy_declarative import User, Comment, Post, Subreddit, Base\n",
    "from sqlalchemy import create_engine\n",
    "from sqlalchemy.orm import sessionmaker\n",
    "from sqlalchemy import exists\n",
    "\n",
    "logging.basicConfig(level=logging.INFO)\n",
    "logger = logging.getLogger(__name__)\n",
    "\n",
    "# File Settings\n",
    "reddit_auth_file = 'reddit_auth.txt'\n",
    "db_settings_file = 'db_settings.txt'\n",
    "sub_list_file = 'subs.txt'\n",
    "\n",
    "\n",
    "def init_sessions():\n",
    "    \"\"\"Initializes a PRAW Reddit and a DB connection with their respective credentials\n",
    "    \n",
    "    :return: \n",
    "    Returns a PRAW Reddit instance and a DB connection session\n",
    "    \"\"\"\n",
    "    # Load Authentication Details\n",
    "    with open(reddit_auth_file, 'r') as f:\n",
    "        auth = json.load(f)\n",
    "\n",
    "    with open(db_settings_file, 'r') as f:\n",
    "        db_settings = json.load(f)\n",
    "\n",
    "    usr_agnt = 'python:front_page_praw:v0.2 (by /u/c_nor)'\n",
    "    reddit = praw.Reddit(client_id=auth['client_id'],\n",
    "                         client_secret=auth['client_secret'],\n",
    "                         user_agent=usr_agnt)\n",
    "\n",
    "    # Create Postgres Connection\n",
    "    engine_address = 'postgresql://{user}:{password}@{address}/{db_name}'.format(\n",
    "        user=db_settings['user'],\n",
    "        password=db_settings['password'],\n",
    "        address=db_settings['address'],\n",
    "        db_name=db_settings['db_name']\n",
    "\n",
    "    )\n",
    "    cnx = create_engine(engine_address)\n",
    "    Base.metadata.bind = cnx\n",
    "    DBSession = sessionmaker(bind=cnx)\n",
    "    return reddit, DBSession()"
   ]
  },
  {
   "cell_type": "code",
   "execution_count": 53,
   "metadata": {
    "collapsed": true
   },
   "outputs": [],
   "source": [
    "reddit, session = init_sessions()"
   ]
  },
  {
   "cell_type": "code",
   "execution_count": null,
   "metadata": {
    "collapsed": true
   },
   "outputs": [],
   "source": [
    "def store_posts(posts, session, comment_limit=100, more_comments=0, threshold=0, verbose=True):\n",
    "    \"\"\"Takes a list of posts, requests the data from the API, and stores it into the database.\n",
    "    \n",
    "    :param posts: \n",
    "    :param session: \n",
    "    :param comment_limit: \n",
    "    Maximum number of comments to retrieve from post\n",
    "    :param more_comments: \n",
    "    How many 'More Comments' requests are sent to reddit.\n",
    "    :param threshold: \n",
    "    Threshold number of comments required to request \"More Comments\".\n",
    "    :param verbose: \n",
    "    Display progress\n",
    "    :return: \n",
    "    \"\"\"\n",
    "\n",
    "    # logging\n",
    "    st_time = time.time()\n",
    "    posts_completed = 0\n",
    "\n",
    "    for i, post in enumerate(posts):\n",
    "        post_id = post.fullname\n",
    "\n",
    "        # Check to see if post already exists in database\n",
    "        post_exist = session.query(exists().where(Post.post_id == post_id)).scalar()\n",
    "        if not post_exist:\n",
    "            if verbose == True:\n",
    "                print('Retrieving {0} at {1}. Current step {2} / {3}'.format(post_id,\n",
    "                                                                             time.strftime('%H:%M'), i + 1, len(posts)))\n",
    "                print('Elapsed time {}'.format(time.time() - st_time))\n",
    "                print('Posts completed {}'.format(posts_completed))\n",
    "\n",
    "            new_post = create_post(post)\n",
    "\n",
    "            logging.debug('Checking existance of subreddit')\n",
    "            # If a subreddit is not found in the database, insert it.\n",
    "            sub_exists = session.query(exists().where(Subreddit.sub_id == new_post.sub_id)).scalar()\n",
    "            if not sub_exists:\n",
    "                session.add(create_subreddit(post.subreddit))\n",
    "                session.commit()\n",
    "\n",
    "            logging.debug('Checking existance of post author')\n",
    "            # Insert new user if it's not in Users\n",
    "            user_exists = session.query(exists().where(User.user_id == new_post.user_id)).scalar()\n",
    "            if not user_exists:\n",
    "                session.add(create_user(post))\n",
    "                session.commit()\n",
    "\n",
    "            session.add(new_post)\n",
    "            session.commit()\n",
    "\n",
    "            # Get list of comments\n",
    "            logging.debug('Getting comment list')\n",
    "            post.comments.replace_more(limit=more_comments, threshold=threshold)\n",
    "            comment_list = post.comments.list()\n",
    "            comment_total = len(comment_list)\n",
    "            if comment_total > comment_limit:\n",
    "                comment_list = comment_list[:comment_limit]\n",
    "                comment_total = len(comment_list)\n",
    "\n",
    "            sub_displayname = post.subreddit.display_name\n",
    "\n",
    "            # User group query\n",
    "            logger.debug('Checking users')\n",
    "            post_user_list = set()\n",
    "            for comment in comment_list:\n",
    "                try:\n",
    "                    post_user_list.add(comment.author_fullname)\n",
    "                except:\n",
    "                    continue\n",
    "\n",
    "            logger.debug(post_user_list)\n",
    "            logger.debug('Querying DB for existing users')\n",
    "\n",
    "            existing_ids = [x.user_id for x in session.query(User).filter(User.user_id.in_(post_user_list)).all()]\n",
    "            # Create users that don't exist\n",
    "\n",
    "            logger.debug('Creating new users')\n",
    "            users_added = []\n",
    "            for comment in comment_list:\n",
    "                try:\n",
    "                    user_id = comment.author_fullname\n",
    "                    if (user_id in existing_ids) or (user_id in users_added):\n",
    "                        pass\n",
    "                    else:\n",
    "                        users_added.append(user_id)\n",
    "                        session.add(create_user(comment))\n",
    "                except:\n",
    "                    continue\n",
    "            session.commit()\n",
    "\n",
    "            logger.debug('Storing comments')\n",
    "            for j, comment in enumerate(comment_list):\n",
    "                logger.debug('Storing comment {0} out of {1}'.format(j, comment_total))\n",
    "                session.add(create_comment(comment, new_post))\n",
    "            session.commit()\n",
    "            posts_completed += 1\n",
    "        else:\n",
    "            print('Post {} already exists'.format(post_id))\n",
    "    print('Subreddit completed in ', str(time.time() - st_time))"
   ]
  },
  {
   "cell_type": "code",
   "execution_count": null,
   "metadata": {
    "collapsed": true
   },
   "outputs": [],
   "source": [
    "def create_user(e, store_karma = False):\n",
    "    \"\"\"\n",
    "    \n",
    "    :param usr: \n",
    "    :return: \n",
    "    \"\"\"\n",
    "    if store_karma:\n",
    "        if type(e) == praw.models.reddit.redditor.Redditor:\n",
    "            new_user = User(user_id=e.author.fullname)\n",
    "            new_user.user_name = e.author.name\n",
    "            new_user.link_karma = e.author.link_karma\n",
    "            new_user.comment_karma = e.author.comment_karma\n",
    "    else:\n",
    "        new_user = User(user_id=e.author_fullname)\n",
    "        new_user.user_name = e.author.name\n",
    "        new_user.link_karma = None\n",
    "        new_user.comment_karma = None\n",
    "    return new_user\n",
    "\n",
    "\n",
    "def create_subreddit(sub):\n",
    "    \"\"\"\n",
    "    Constructs an instance of the SQL base class Subreddit to insert into the subreddit table.\n",
    "    :param sub: \n",
    "    :type: Subreddit\n",
    "    :return: \n",
    "    Subreddit object\n",
    "    \"\"\"\n",
    "    new_sub = Subreddit(sub_id=sub.fullname)\n",
    "    new_sub.sub_name = sub.display_name\n",
    "    new_sub.created = dt.datetime.fromtimestamp(sub.created_utc)\n",
    "    new_sub.description = sub.description\n",
    "    new_sub.sub_count = sub.subscribers\n",
    "    new_sub.audience = sub.audience_target\n",
    "    new_sub.url = sub.url\n",
    "    # print('Create subreddit took {}'.format(time.time() - start_time))\n",
    "\n",
    "    return new_sub\n",
    "\n",
    "\n",
    "def create_post(post):\n",
    "    \"\"\"\n",
    "    Constructs an instance of the SQL base class Subreddit to insert into the subreddit table.\n",
    "    :param subred: \n",
    "    :type: Subreddit\n",
    "    :return: \n",
    "    Subreddit object\n",
    "    \"\"\"\n",
    "    new_post = Post(post_id=post.fullname)\n",
    "\n",
    "    try:\n",
    "        new_post.user_id = post.author_fullname\n",
    "    except:\n",
    "        new_post.user_id = 't2_nan'\n",
    "\n",
    "    new_post.sub_id = post.subreddit.fullname\n",
    "    new_post.title = post.title\n",
    "    new_post.created = dt.datetime.fromtimestamp(post.created_utc)\n",
    "    new_post.score = post.score\n",
    "    new_post.target_url = post.url\n",
    "    new_post.permalink = post.permalink\n",
    "    new_post.body = post.selftext\n",
    "    # print('Create post took {}'.format(time.time() - start_time))\n",
    "    return new_post\n",
    "\n",
    "\n",
    "def create_comment(comment, post):\n",
    "    \"\"\"\n",
    "    Constructs an instance of the SQL base class Subreddit to insert into the subreddit table.\n",
    "    :param subred: \n",
    "    :type: Subreddit\n",
    "    :return: \n",
    "    Subreddit object\n",
    "    \"\"\"\n",
    "    start_time = time.time()\n",
    "    new_comment = Comment(comment_id=comment.fullname)\n",
    "    try:\n",
    "        new_comment.user_id = comment.author_fullname\n",
    "    except:\n",
    "        new_comment.user_id = 't2_nan'\n",
    "\n",
    "    new_comment.post_id = post.post_id\n",
    "    new_comment.created = dt.datetime.fromtimestamp(comment.created_utc)\n",
    "    new_comment.score = comment.score\n",
    "    new_comment.gilds = comment.gilded\n",
    "    new_comment.body = comment.body\n",
    "    new_comment.permalink = comment.permalink\n",
    "    # print('Create comment took {}'.format(time.time() - start_time))\n",
    "    return new_comment"
   ]
  },
  {
   "cell_type": "code",
   "execution_count": null,
   "metadata": {
    "collapsed": true
   },
   "outputs": [],
   "source": [
    "import logging\n",
    "logger = logging.getLogger()\n",
    "logger.setLevel(logging.DEBUG)\n",
    "logging.debug(\"test\")"
   ]
  },
  {
   "cell_type": "code",
   "execution_count": null,
   "metadata": {
    "collapsed": true
   },
   "outputs": [],
   "source": [
    "logger.info('Five')"
   ]
  },
  {
   "cell_type": "code",
   "execution_count": null,
   "metadata": {
    "collapsed": true
   },
   "outputs": [],
   "source": [
    "reddit, db_session = init_sessions()\n",
    "\n",
    "try:\n",
    "    with open(sub_list_file, 'r') as f:\n",
    "        sub_list = map(str.strip, f.readlines())\n",
    "except OSError:\n",
    "    sub_list = None\n",
    "\n",
    "script_st_time = time.time()\n",
    "print('Script started at ', time.strftime('%H:%M'))\n",
    "\n",
    "if sub_list is not None:\n",
    "    for display_name in sub_list:\n",
    "        praw_subreddit = reddit.subreddit(display_name)\n",
    "        print('Current subreddit: {}'.format(praw_subreddit.display_name))\n",
    "        post_list = list(praw_subreddit.hot(limit=10))\n",
    "        store_posts(post_list, db_session, 20)\n",
    "        break\n"
   ]
  },
  {
   "cell_type": "code",
   "execution_count": null,
   "metadata": {
    "collapsed": true
   },
   "outputs": [],
   "source": [
    "sub_list"
   ]
  },
  {
   "cell_type": "code",
   "execution_count": 65,
   "metadata": {
    "collapsed": true
   },
   "outputs": [],
   "source": [
    "test = reddit.subreddit('funny')"
   ]
  },
  {
   "cell_type": "code",
   "execution_count": 66,
   "metadata": {
    "collapsed": true
   },
   "outputs": [],
   "source": [
    "post_list = test.hot(limit=10)"
   ]
  },
  {
   "cell_type": "code",
   "execution_count": 67,
   "metadata": {
    "collapsed": true
   },
   "outputs": [],
   "source": [
    "post_list = list(post_list)"
   ]
  },
  {
   "cell_type": "code",
   "execution_count": 68,
   "metadata": {
    "collapsed": true
   },
   "outputs": [],
   "source": [
    "post_1 = post_list[4]"
   ]
  },
  {
   "cell_type": "code",
   "execution_count": null,
   "metadata": {
    "collapsed": true
   },
   "outputs": [],
   "source": [
    "post_1.comments.replace_more"
   ]
  },
  {
   "cell_type": "code",
   "execution_count": null,
   "metadata": {
    "collapsed": true
   },
   "outputs": [],
   "source": [
    "post_1.comments.replace_more(limit=0, threshold=0)"
   ]
  },
  {
   "cell_type": "code",
   "execution_count": null,
   "metadata": {
    "collapsed": true
   },
   "outputs": [],
   "source": [
    "forest = post_1.comments"
   ]
  },
  {
   "cell_type": "code",
   "execution_count": null,
   "metadata": {
    "collapsed": true
   },
   "outputs": [],
   "source": [
    "len(forest)"
   ]
  },
  {
   "cell_type": "code",
   "execution_count": null,
   "metadata": {
    "collapsed": true
   },
   "outputs": [],
   "source": [
    "list_forest = list(forest)"
   ]
  },
  {
   "cell_type": "code",
   "execution_count": null,
   "metadata": {
    "collapsed": true
   },
   "outputs": [],
   "source": [
    "comment_1 = list_forest[0]"
   ]
  },
  {
   "cell_type": "code",
   "execution_count": null,
   "metadata": {
    "collapsed": true
   },
   "outputs": [],
   "source": [
    "comment_1.author.fullname"
   ]
  },
  {
   "cell_type": "code",
   "execution_count": null,
   "metadata": {
    "collapsed": true
   },
   "outputs": [],
   "source": [
    "comment_1.author_fullname"
   ]
  },
  {
   "cell_type": "code",
   "execution_count": null,
   "metadata": {
    "collapsed": true
   },
   "outputs": [],
   "source": [
    "vars(comment_1)"
   ]
  },
  {
   "cell_type": "code",
   "execution_count": null,
   "metadata": {
    "collapsed": true
   },
   "outputs": [],
   "source": [
    "comment_3 = list_forest[2]"
   ]
  },
  {
   "cell_type": "code",
   "execution_count": null,
   "metadata": {
    "collapsed": true
   },
   "outputs": [],
   "source": [
    "comment_2.author.link_karma"
   ]
  },
  {
   "cell_type": "code",
   "execution_count": null,
   "metadata": {
    "collapsed": true
   },
   "outputs": [],
   "source": [
    "comment_3.author.fullname"
   ]
  },
  {
   "cell_type": "code",
   "execution_count": null,
   "metadata": {
    "collapsed": true
   },
   "outputs": [],
   "source": [
    "comment_3.author.name"
   ]
  },
  {
   "cell_type": "code",
   "execution_count": null,
   "metadata": {
    "collapsed": true
   },
   "outputs": [],
   "source": [
    "comment_4 = list_forest[3]"
   ]
  },
  {
   "cell_type": "code",
   "execution_count": null,
   "metadata": {
    "collapsed": true
   },
   "outputs": [],
   "source": [
    "comment_4.author.fullname"
   ]
  },
  {
   "cell_type": "code",
   "execution_count": null,
   "metadata": {
    "collapsed": true
   },
   "outputs": [],
   "source": [
    "vars(post_1)"
   ]
  },
  {
   "cell_type": "code",
   "execution_count": null,
   "metadata": {
    "collapsed": true
   },
   "outputs": [],
   "source": [
    "type(post_1)"
   ]
  },
  {
   "cell_type": "code",
   "execution_count": null,
   "metadata": {
    "collapsed": true
   },
   "outputs": [],
   "source": [
    "type(post_1) == praw.models.reddit.submission.Submission"
   ]
  },
  {
   "cell_type": "code",
   "execution_count": null,
   "metadata": {
    "collapsed": true
   },
   "outputs": [],
   "source": [
    "type(post_1.author)"
   ]
  },
  {
   "cell_type": "code",
   "execution_count": 6,
   "metadata": {
    "collapsed": true
   },
   "outputs": [],
   "source": [
    "import datetime as dt"
   ]
  },
  {
   "cell_type": "code",
   "execution_count": 17,
   "metadata": {
    "collapsed": true
   },
   "outputs": [],
   "source": [
    "import time"
   ]
  },
  {
   "cell_type": "code",
   "execution_count": 19,
   "metadata": {},
   "outputs": [
    {
     "data": {
      "text/plain": [
       "1540332792.5198777"
      ]
     },
     "execution_count": 19,
     "metadata": {},
     "output_type": "execute_result"
    }
   ],
   "source": [
    "time.time()"
   ]
  },
  {
   "cell_type": "code",
   "execution_count": 20,
   "metadata": {},
   "outputs": [
    {
     "ename": "SyntaxError",
     "evalue": "invalid syntax (<ipython-input-20-7587c476eb5d>, line 1)",
     "output_type": "error",
     "traceback": [
      "\u001b[1;36m  File \u001b[1;32m\"<ipython-input-20-7587c476eb5d>\"\u001b[1;36m, line \u001b[1;32m1\u001b[0m\n\u001b[1;33m    with open('lo')\u001b[0m\n\u001b[1;37m                   ^\u001b[0m\n\u001b[1;31mSyntaxError\u001b[0m\u001b[1;31m:\u001b[0m invalid syntax\n"
     ]
    }
   ],
   "source": [
    "with open('lo')"
   ]
  },
  {
   "cell_type": "code",
   "execution_count": 50,
   "metadata": {},
   "outputs": [
    {
     "data": {
      "text/plain": [
       "<sqlalchemy.orm.session.Session at 0x2b1a7c2e128>"
      ]
     },
     "execution_count": 50,
     "metadata": {},
     "output_type": "execute_result"
    }
   ],
   "source": [
    "db_session"
   ]
  },
  {
   "cell_type": "code",
   "execution_count": 26,
   "metadata": {
    "collapsed": true
   },
   "outputs": [],
   "source": [
    "reddit, db_session = init_sessions()"
   ]
  },
  {
   "cell_type": "code",
   "execution_count": 27,
   "metadata": {
    "collapsed": true
   },
   "outputs": [],
   "source": [
    "import pandas as pd"
   ]
  },
  {
   "cell_type": "code",
   "execution_count": 38,
   "metadata": {
    "collapsed": true
   },
   "outputs": [],
   "source": [
    "comments = pd.read_sql('SELECT * FROM comments', db_session.bind)"
   ]
  },
  {
   "cell_type": "code",
   "execution_count": 45,
   "metadata": {},
   "outputs": [
    {
     "data": {
      "text/plain": [
       "Index               80\n",
       "comment_id    16346248\n",
       "user_id       16346248\n",
       "post_id       16346248\n",
       "created       16346248\n",
       "score         16346248\n",
       "gilds         16346248\n",
       "body          16346248\n",
       "permalink     16346248\n",
       "dtype: int64"
      ]
     },
     "execution_count": 45,
     "metadata": {},
     "output_type": "execute_result"
    }
   ],
   "source": [
    "comments.memory_usage()"
   ]
  },
  {
   "cell_type": "code",
   "execution_count": 46,
   "metadata": {
    "collapsed": true
   },
   "outputs": [],
   "source": [
    "import argparse"
   ]
  },
  {
   "cell_type": "code",
   "execution_count": 47,
   "metadata": {
    "collapsed": true
   },
   "outputs": [],
   "source": [
    "parser = argparse.ArgumentParser(description='Test')"
   ]
  },
  {
   "cell_type": "code",
   "execution_count": 48,
   "metadata": {},
   "outputs": [
    {
     "ename": "TypeError",
     "evalue": "_get_positional_kwargs() missing 1 required positional argument: 'dest'",
     "output_type": "error",
     "traceback": [
      "\u001b[1;31m---------------------------------------------------------------------------\u001b[0m",
      "\u001b[1;31mTypeError\u001b[0m                                 Traceback (most recent call last)",
      "\u001b[1;32m<ipython-input-48-e14c5df6df18>\u001b[0m in \u001b[0;36m<module>\u001b[1;34m()\u001b[0m\n\u001b[1;32m----> 1\u001b[1;33m \u001b[0mparser\u001b[0m\u001b[1;33m.\u001b[0m\u001b[0madd_argument\u001b[0m\u001b[1;33m(\u001b[0m\u001b[1;33m)\u001b[0m\u001b[1;33m\u001b[0m\u001b[0m\n\u001b[0m",
      "\u001b[1;32mC:\\Users\\JvHeeswijck\\Anaconda3\\lib\\argparse.py\u001b[0m in \u001b[0;36madd_argument\u001b[1;34m(self, *args, **kwargs)\u001b[0m\n\u001b[0;32m   1318\u001b[0m             \u001b[1;32mif\u001b[0m \u001b[0margs\u001b[0m \u001b[1;32mand\u001b[0m \u001b[1;34m'dest'\u001b[0m \u001b[1;32min\u001b[0m \u001b[0mkwargs\u001b[0m\u001b[1;33m:\u001b[0m\u001b[1;33m\u001b[0m\u001b[0m\n\u001b[0;32m   1319\u001b[0m                 \u001b[1;32mraise\u001b[0m \u001b[0mValueError\u001b[0m\u001b[1;33m(\u001b[0m\u001b[1;34m'dest supplied twice for positional argument'\u001b[0m\u001b[1;33m)\u001b[0m\u001b[1;33m\u001b[0m\u001b[0m\n\u001b[1;32m-> 1320\u001b[1;33m             \u001b[0mkwargs\u001b[0m \u001b[1;33m=\u001b[0m \u001b[0mself\u001b[0m\u001b[1;33m.\u001b[0m\u001b[0m_get_positional_kwargs\u001b[0m\u001b[1;33m(\u001b[0m\u001b[1;33m*\u001b[0m\u001b[0margs\u001b[0m\u001b[1;33m,\u001b[0m \u001b[1;33m**\u001b[0m\u001b[0mkwargs\u001b[0m\u001b[1;33m)\u001b[0m\u001b[1;33m\u001b[0m\u001b[0m\n\u001b[0m\u001b[0;32m   1321\u001b[0m \u001b[1;33m\u001b[0m\u001b[0m\n\u001b[0;32m   1322\u001b[0m         \u001b[1;31m# otherwise, we're adding an optional argument\u001b[0m\u001b[1;33m\u001b[0m\u001b[1;33m\u001b[0m\u001b[0m\n",
      "\u001b[1;31mTypeError\u001b[0m: _get_positional_kwargs() missing 1 required positional argument: 'dest'"
     ]
    }
   ],
   "source": [
    "parser.add_argument()"
   ]
  },
  {
   "cell_type": "code",
   "execution_count": 49,
   "metadata": {},
   "outputs": [
    {
     "ename": "NameError",
     "evalue": "name 'session' is not defined",
     "output_type": "error",
     "traceback": [
      "\u001b[1;31m---------------------------------------------------------------------------\u001b[0m",
      "\u001b[1;31mNameError\u001b[0m                                 Traceback (most recent call last)",
      "\u001b[1;32m<ipython-input-49-400ce837692b>\u001b[0m in \u001b[0;36m<module>\u001b[1;34m()\u001b[0m\n\u001b[1;32m----> 1\u001b[1;33m \u001b[0mtype\u001b[0m\u001b[1;33m(\u001b[0m\u001b[0msession\u001b[0m\u001b[1;33m)\u001b[0m\u001b[1;33m\u001b[0m\u001b[0m\n\u001b[0m",
      "\u001b[1;31mNameError\u001b[0m: name 'session' is not defined"
     ]
    }
   ],
   "source": [
    "type(session)"
   ]
  },
  {
   "cell_type": "code",
   "execution_count": 69,
   "metadata": {},
   "outputs": [
    {
     "data": {
      "text/plain": [
       "{'_comments_by_id': {},\n",
       " '_fetched': False,\n",
       " '_flair': None,\n",
       " '_info_params': {},\n",
       " '_mod': None,\n",
       " '_reddit': <praw.reddit.Reddit at 0x2b1b7532b70>,\n",
       " 'approved_at_utc': None,\n",
       " 'approved_by': None,\n",
       " 'archived': False,\n",
       " 'author': Redditor(name='All_User_Taken'),\n",
       " 'author_flair_background_color': None,\n",
       " 'author_flair_css_class': None,\n",
       " 'author_flair_richtext': [],\n",
       " 'author_flair_template_id': None,\n",
       " 'author_flair_text': None,\n",
       " 'author_flair_text_color': None,\n",
       " 'author_flair_type': 'text',\n",
       " 'author_fullname': 't2_2ccdvmj1',\n",
       " 'author_patreon_flair': False,\n",
       " 'banned_at_utc': None,\n",
       " 'banned_by': None,\n",
       " 'can_gild': False,\n",
       " 'can_mod_post': False,\n",
       " 'category': None,\n",
       " 'clicked': False,\n",
       " 'comment_limit': 2048,\n",
       " 'comment_sort': 'best',\n",
       " 'content_categories': None,\n",
       " 'contest_mode': False,\n",
       " 'created': 1540344059.0,\n",
       " 'created_utc': 1540315259.0,\n",
       " 'distinguished': None,\n",
       " 'domain': 'v.redd.it',\n",
       " 'downs': 0,\n",
       " 'edited': False,\n",
       " 'gilded': 0,\n",
       " 'gildings': {'gid_1': 0, 'gid_2': 0, 'gid_3': 0},\n",
       " 'hidden': False,\n",
       " 'hide_score': False,\n",
       " 'id': '9qr3h4',\n",
       " 'is_crosspostable': False,\n",
       " 'is_meta': False,\n",
       " 'is_original_content': False,\n",
       " 'is_reddit_media_domain': True,\n",
       " 'is_robot_indexable': True,\n",
       " 'is_self': False,\n",
       " 'is_video': True,\n",
       " 'likes': None,\n",
       " 'link_flair_background_color': '',\n",
       " 'link_flair_css_class': None,\n",
       " 'link_flair_richtext': [],\n",
       " 'link_flair_template_id': None,\n",
       " 'link_flair_text': None,\n",
       " 'link_flair_text_color': 'dark',\n",
       " 'link_flair_type': 'text',\n",
       " 'locked': False,\n",
       " 'media': {'reddit_video': {'dash_url': 'https://v.redd.it/nq5l983hyyt11/DASHPlaylist.mpd',\n",
       "   'duration': 11,\n",
       "   'fallback_url': 'https://v.redd.it/nq5l983hyyt11/DASH_4_8_M',\n",
       "   'height': 720,\n",
       "   'hls_url': 'https://v.redd.it/nq5l983hyyt11/HLSPlaylist.m3u8',\n",
       "   'is_gif': True,\n",
       "   'scrubber_media_url': 'https://v.redd.it/nq5l983hyyt11/DASH_600_K',\n",
       "   'transcoding_status': 'completed',\n",
       "   'width': 408}},\n",
       " 'media_embed': {},\n",
       " 'media_only': False,\n",
       " 'mod_note': None,\n",
       " 'mod_reason_by': None,\n",
       " 'mod_reason_title': None,\n",
       " 'mod_reports': [],\n",
       " 'name': 't3_9qr3h4',\n",
       " 'no_follow': False,\n",
       " 'num_comments': 116,\n",
       " 'num_crossposts': 4,\n",
       " 'num_reports': None,\n",
       " 'over_18': False,\n",
       " 'parent_whitelist_status': 'all_ads',\n",
       " 'permalink': '/r/funny/comments/9qr3h4/employee_with_higher_potential_helping_the_boss/',\n",
       " 'pinned': False,\n",
       " 'post_hint': 'hosted:video',\n",
       " 'preview': {'enabled': False,\n",
       "  'images': [{'id': 'EIGTLvzfyappRQqpbpHQUrQBsSw1PVrlaniPSX9TE8s',\n",
       "    'resolutions': [{'height': 190,\n",
       "      'url': 'https://external-preview.redd.it/JDH1wXzRLFV9wAkZ7VYUcaSY8oDB4TKoAFE1xd3jCnk.png?width=108&crop=smart&auto=webp&s=dbf206430a8617b92f044b73148c5ab170fdbf58',\n",
       "      'width': 108},\n",
       "     {'height': 381,\n",
       "      'url': 'https://external-preview.redd.it/JDH1wXzRLFV9wAkZ7VYUcaSY8oDB4TKoAFE1xd3jCnk.png?width=216&crop=smart&auto=webp&s=e26d7a00293220d0f86516069f697ab24bbd23a9',\n",
       "      'width': 216},\n",
       "     {'height': 564,\n",
       "      'url': 'https://external-preview.redd.it/JDH1wXzRLFV9wAkZ7VYUcaSY8oDB4TKoAFE1xd3jCnk.png?width=320&crop=smart&auto=webp&s=22967e8dd0a231adc829d1ff25e13dab763aceaf',\n",
       "      'width': 320}],\n",
       "    'source': {'height': 960,\n",
       "     'url': 'https://external-preview.redd.it/JDH1wXzRLFV9wAkZ7VYUcaSY8oDB4TKoAFE1xd3jCnk.png?auto=webp&s=17e0cedf00c53ba066dff3cc05d37d3836ce7085',\n",
       "     'width': 544},\n",
       "    'variants': {}}]},\n",
       " 'pwls': 6,\n",
       " 'quarantine': False,\n",
       " 'removal_reason': None,\n",
       " 'report_reasons': None,\n",
       " 'saved': False,\n",
       " 'score': 5188,\n",
       " 'secure_media': {'reddit_video': {'dash_url': 'https://v.redd.it/nq5l983hyyt11/DASHPlaylist.mpd',\n",
       "   'duration': 11,\n",
       "   'fallback_url': 'https://v.redd.it/nq5l983hyyt11/DASH_4_8_M',\n",
       "   'height': 720,\n",
       "   'hls_url': 'https://v.redd.it/nq5l983hyyt11/HLSPlaylist.m3u8',\n",
       "   'is_gif': True,\n",
       "   'scrubber_media_url': 'https://v.redd.it/nq5l983hyyt11/DASH_600_K',\n",
       "   'transcoding_status': 'completed',\n",
       "   'width': 408}},\n",
       " 'secure_media_embed': {},\n",
       " 'selftext': '',\n",
       " 'selftext_html': None,\n",
       " 'send_replies': True,\n",
       " 'spoiler': False,\n",
       " 'stickied': False,\n",
       " 'subreddit': Subreddit(display_name='funny'),\n",
       " 'subreddit_id': 't5_2qh33',\n",
       " 'subreddit_name_prefixed': 'r/funny',\n",
       " 'subreddit_subscribers': 21205579,\n",
       " 'subreddit_type': 'public',\n",
       " 'suggested_sort': None,\n",
       " 'thumbnail': 'https://b.thumbs.redditmedia.com/h-gmETzzGsjJKnfJTmGBUeyTWkkCwW-aFINw6Dgnc4Q.jpg',\n",
       " 'thumbnail_height': 140,\n",
       " 'thumbnail_width': 140,\n",
       " 'title': 'Employee with higher potential helping the boss in Golf practice😜😜',\n",
       " 'ups': 5188,\n",
       " 'url': 'https://v.redd.it/nq5l983hyyt11',\n",
       " 'user_reports': [],\n",
       " 'view_count': None,\n",
       " 'visited': False,\n",
       " 'whitelist_status': 'all_ads',\n",
       " 'wls': 6}"
      ]
     },
     "execution_count": 69,
     "metadata": {},
     "output_type": "execute_result"
    }
   ],
   "source": [
    "vars(post_1)"
   ]
  },
  {
   "cell_type": "code",
   "execution_count": 64,
   "metadata": {},
   "outputs": [
    {
     "data": {
      "text/plain": [
       "{'_comments_by_id': {},\n",
       " '_fetched': False,\n",
       " '_flair': None,\n",
       " '_info_params': {},\n",
       " '_mod': None,\n",
       " '_reddit': <praw.reddit.Reddit at 0x2b1b7532b70>,\n",
       " 'approved_at_utc': None,\n",
       " 'approved_by': None,\n",
       " 'archived': False,\n",
       " 'author': Redditor(name='Geoorgio'),\n",
       " 'author_flair_background_color': None,\n",
       " 'author_flair_css_class': None,\n",
       " 'author_flair_richtext': [],\n",
       " 'author_flair_template_id': None,\n",
       " 'author_flair_text': None,\n",
       " 'author_flair_text_color': None,\n",
       " 'author_flair_type': 'text',\n",
       " 'author_fullname': 't2_2gpu1igu',\n",
       " 'author_patreon_flair': False,\n",
       " 'banned_at_utc': None,\n",
       " 'banned_by': None,\n",
       " 'can_gild': False,\n",
       " 'can_mod_post': False,\n",
       " 'category': None,\n",
       " 'clicked': False,\n",
       " 'comment_limit': 2048,\n",
       " 'comment_sort': 'best',\n",
       " 'content_categories': None,\n",
       " 'contest_mode': False,\n",
       " 'created': 1540333808.0,\n",
       " 'created_utc': 1540305008.0,\n",
       " 'distinguished': None,\n",
       " 'domain': 'self.AMA',\n",
       " 'downs': 0,\n",
       " 'edited': False,\n",
       " 'gilded': 0,\n",
       " 'gildings': {'gid_1': 0, 'gid_2': 0, 'gid_3': 0},\n",
       " 'hidden': False,\n",
       " 'hide_score': False,\n",
       " 'id': '9qphpg',\n",
       " 'is_crosspostable': False,\n",
       " 'is_meta': False,\n",
       " 'is_original_content': False,\n",
       " 'is_reddit_media_domain': False,\n",
       " 'is_robot_indexable': True,\n",
       " 'is_self': True,\n",
       " 'is_video': False,\n",
       " 'likes': None,\n",
       " 'link_flair_background_color': '',\n",
       " 'link_flair_css_class': None,\n",
       " 'link_flair_richtext': [],\n",
       " 'link_flair_template_id': None,\n",
       " 'link_flair_text': None,\n",
       " 'link_flair_text_color': 'dark',\n",
       " 'link_flair_type': 'text',\n",
       " 'locked': False,\n",
       " 'media': None,\n",
       " 'media_embed': {},\n",
       " 'media_only': False,\n",
       " 'mod_note': None,\n",
       " 'mod_reason_by': None,\n",
       " 'mod_reason_title': None,\n",
       " 'mod_reports': [],\n",
       " 'name': 't3_9qphpg',\n",
       " 'no_follow': False,\n",
       " 'num_comments': 47,\n",
       " 'num_crossposts': 0,\n",
       " 'num_reports': None,\n",
       " 'over_18': False,\n",
       " 'parent_whitelist_status': 'all_ads',\n",
       " 'permalink': '/r/AMA/comments/9qphpg/i_am_a_56yearold_man_diagnosed_with_stage_4/',\n",
       " 'pinned': False,\n",
       " 'pwls': 6,\n",
       " 'quarantine': False,\n",
       " 'removal_reason': None,\n",
       " 'report_reasons': None,\n",
       " 'saved': False,\n",
       " 'score': 207,\n",
       " 'secure_media': None,\n",
       " 'secure_media_embed': {},\n",
       " 'selftext': \"Diagnosed several years ago, life is tough. Having intense memory loss as I'm told, I was forced to leave work behind, and now I mostly read through reddit and I love it here. \\n\\nDecided to do this AMA so I could try and help you understand more about the life with AD.\",\n",
       " 'selftext_html': '<!-- SC_OFF --><div class=\"md\"><p>Diagnosed several years ago, life is tough. Having intense memory loss as I&#39;m told, I was forced to leave work behind, and now I mostly read through reddit and I love it here. </p>\\n\\n<p>Decided to do this AMA so I could try and help you understand more about the life with AD.</p>\\n</div><!-- SC_ON -->',\n",
       " 'send_replies': True,\n",
       " 'spoiler': False,\n",
       " 'stickied': False,\n",
       " 'subreddit': Subreddit(display_name='AMA'),\n",
       " 'subreddit_id': 't5_2r4eo',\n",
       " 'subreddit_name_prefixed': 'r/AMA',\n",
       " 'subreddit_subscribers': 291181,\n",
       " 'subreddit_type': 'public',\n",
       " 'suggested_sort': None,\n",
       " 'thumbnail': '',\n",
       " 'title': \"I am a 56-year-old man diagnosed with stage 4 Alzheimer's disease. AMA.\",\n",
       " 'ups': 207,\n",
       " 'url': 'https://www.reddit.com/r/AMA/comments/9qphpg/i_am_a_56yearold_man_diagnosed_with_stage_4/',\n",
       " 'user_reports': [],\n",
       " 'view_count': None,\n",
       " 'visited': False,\n",
       " 'whitelist_status': 'all_ads',\n",
       " 'wls': 6}"
      ]
     },
     "execution_count": 64,
     "metadata": {},
     "output_type": "execute_result"
    }
   ],
   "source": [
    "vars(post_2)"
   ]
  },
  {
   "cell_type": "code",
   "execution_count": null,
   "metadata": {
    "collapsed": true
   },
   "outputs": [],
   "source": []
  }
 ],
 "metadata": {
  "kernelspec": {
   "display_name": "Python 3",
   "language": "python",
   "name": "python3"
  },
  "language_info": {
   "codemirror_mode": {
    "name": "ipython",
    "version": 3
   },
   "file_extension": ".py",
   "mimetype": "text/x-python",
   "name": "python",
   "nbconvert_exporter": "python",
   "pygments_lexer": "ipython3",
   "version": "3.6.6"
  }
 },
 "nbformat": 4,
 "nbformat_minor": 2
}
